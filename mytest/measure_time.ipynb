{
 "cells": [
  {
   "cell_type": "code",
   "execution_count": 1,
   "metadata": {},
   "outputs": [],
   "source": [
    "import torch\n",
    "import numpy as np\n",
    "\n",
    "import torch\n",
    "\n",
    "from torch.nn.attention.flex_attention import create_block_mask, flex_attention\n",
    "from torch import Tensor\n",
    "import time\n",
    "\n",
    "import torch.nn.functional as F\n",
    "import numpy as np\n",
    "\n",
    "from mask import create_full_arrow_mask, create_half_arrow_mask, create_headwise_window_mask"
   ]
  },
  {
   "cell_type": "code",
   "execution_count": 2,
   "metadata": {},
   "outputs": [],
   "source": [
    "flex_attention = torch.compile(flex_attention)\n",
    "\n",
    "FLEX_MASK_CACHE = {}\n",
    "def flex_headwin_attn(q: Tensor, k: Tensor, v: Tensor, n_im_tokens: int, n_text_tokens: int, spatial_mask, block_size=(128, 128)):\n",
    "    cache_key = (f\"{n_im_tokens}_{n_text_tokens}_{block_size}\", spatial_mask) \n",
    "    if cache_key in FLEX_MASK_CACHE:\n",
    "        block_mask = FLEX_MASK_CACHE[cache_key]\n",
    "    else:\n",
    "        def mask_function(b, h, q_idx, kv_idx):\n",
    "            cond1 = spatial_mask[h, q_idx, kv_idx]\n",
    "            return cond1\n",
    "\n",
    "        total_tokens = n_im_tokens + n_text_tokens\n",
    "\n",
    "        block_mask = create_block_mask(\n",
    "            mask_function,\n",
    "            B=None,\n",
    "            H=q.shape[1],\n",
    "            Q_LEN=total_tokens,\n",
    "            KV_LEN=total_tokens,\n",
    "            BLOCK_SIZE=block_size,\n",
    "        )\n",
    "        FLEX_MASK_CACHE[cache_key] = block_mask \n",
    "\n",
    "    output = flex_attention(q, k, v, block_mask=block_mask)\n",
    "    return output"
   ]
  },
  {
   "cell_type": "code",
   "execution_count": 3,
   "metadata": {},
   "outputs": [],
   "source": [
    "batch = 8\n",
    "\n",
    "seqlen_vision = 4096\n",
    "seqlen_text = 333\n",
    "num_head = 24\n",
    "\n",
    "head_dim = 64\n",
    "\n",
    "B, N, H, D = batch, seqlen_vision + seqlen_text, num_head, head_dim  \n",
    "device = torch.device(\"cuda\")\n",
    "block_size = (128, 128)"
   ]
  },
  {
   "cell_type": "code",
   "execution_count": 4,
   "metadata": {},
   "outputs": [],
   "source": [
    "window_sizes = torch.zeros((H, 2), device=device, dtype=torch.int32)\n",
    "window_sizes[0] = torch.tensor((13, 16), device=device, dtype=torch.int32)\n",
    "window_sizes[1:4] = torch.tensor((13, 15), device=device, dtype=torch.int32)\n",
    "window_sizes[4:9] = torch.tensor((14, 16), device=device, dtype=torch.int32)\n",
    "window_sizes[9:] = torch.tensor((14, 14), device=device, dtype=torch.int32)"
   ]
  },
  {
   "cell_type": "code",
   "execution_count": 5,
   "metadata": {},
   "outputs": [],
   "source": [
    "q, k, v = torch.randn(B * 3, N, H, D, dtype=torch.float16, device=device).split(B, dim=0)"
   ]
  },
  {
   "cell_type": "code",
   "execution_count": 6,
   "metadata": {},
   "outputs": [],
   "source": [
    "from flash_attn_original import flash_attn_func as flash_attn_func_original\n",
    "\n",
    "ori_full_times = []\n",
    "\n",
    "for _ in range(100):\n",
    "    flash_attn_func_original(q, k, v, window_size=(-1 , -1))\n",
    "torch.cuda.synchronize()\n",
    "\n",
    "start_ori = torch.cuda.Event(True)\n",
    "end_ori =  torch.cuda.Event(True)\n",
    "\n",
    "for _ in range(100): \n",
    "    start_ori.record()\n",
    "    o_ori = flash_attn_func_original(q, k, v, window_size=(-1 , -1))\n",
    "    end_ori.record()\n",
    "    torch.cuda.synchronize()\n",
    "    tot_original = (start_ori.elapsed_time(end_ori)) \n",
    "    ori_full_times.append(tot_original)\n",
    "ori_full_mean = np.mean(np.array(ori_full_times))"
   ]
  },
  {
   "cell_type": "code",
   "execution_count": 7,
   "metadata": {},
   "outputs": [
    {
     "name": "stdout",
     "output_type": "stream",
     "text": [
      "True\n"
     ]
    }
   ],
   "source": [
    "from flash_attn_ours import  headwise_arrow_attn, headwise_half_arrow_attn\n",
    "######################################################\n",
    "#       test headwise full arrow attention time\n",
    "######################################################\n",
    "hw_fa_times = []\n",
    "flex_full_arrow_times = []\n",
    "output_hw_full_arrows_rights = []\n",
    "o_ori_vs_o_fa = []\n",
    "\n",
    "for _ in range(100):\n",
    "    headwise_arrow_attn(q, k, v, window_sizes=window_sizes, seqlen_q_vision = seqlen_vision, seqlen_k_vision = seqlen_vision)\n",
    "torch.cuda.synchronize()\n",
    "\n",
    "start_hw_full_arrow = torch.cuda.Event(True)\n",
    "end_hw_full_arrow =  torch.cuda.Event(True)\n",
    "\n",
    "        \n",
    "for _ in range(100): \n",
    "    start_hw_full_arrow.record()\n",
    "    o_hw_full_arrow = headwise_arrow_attn(q, k, v, window_sizes=window_sizes, seqlen_q_vision = seqlen_vision, seqlen_k_vision = seqlen_vision)\n",
    "    end_hw_full_arrow.record()\n",
    "    torch.cuda.synchronize()\n",
    "    tot_hw_fa = (start_hw_full_arrow.elapsed_time(end_hw_full_arrow)) \n",
    "    hw_fa_times.append(tot_hw_fa)\n",
    "hw_full_arrow_mean = np.mean(np.array(hw_fa_times))\n",
    "\n",
    "window_masks, _ = create_full_arrow_mask(H, seqlen_vision, seqlen_text, window_sizes, (128, 128))\n",
    "flex_masks = torch.zeros(window_masks.shape[0], \n",
    "                        (N + block_size[0] - 1) // block_size[0] * block_size[0], \n",
    "                        (N + block_size[1] - 1) // block_size[1] * block_size[1],\n",
    "                        dtype=window_masks.dtype,\n",
    "                        device=window_masks.device)\n",
    "flex_masks[:, :N, :N] = window_masks\n",
    "\n",
    "qp, kp, vp = q.permute(0, 2, 1, 3), k.permute(0, 2, 1, 3), v.permute(0, 2, 1, 3)\n",
    "\n",
    "for _ in range(100):\n",
    "    flex_headwin_attn(qp,\n",
    "                            kp,\n",
    "                            vp, \n",
    "                            seqlen_vision, seqlen_text, flex_masks, (128, 128))\n",
    "    torch.cuda.synchronize()\n",
    "\n",
    "start_flex_fa = torch.cuda.Event(True)\n",
    "end_flex_fa = torch.cuda.Event(True)\n",
    "for _ in range(100): \n",
    "    start_flex_fa.record()\n",
    "    o_flex_full_arrow = flex_headwin_attn(qp,\n",
    "                            kp,\n",
    "                            vp,\n",
    "                            seqlen_vision, seqlen_text, flex_masks, (128, 128))\n",
    "    \n",
    "    end_flex_fa.record()\n",
    "    torch.cuda.synchronize()\n",
    "    tot_flex_full_arrow = (start_flex_fa.elapsed_time(end_flex_fa)) \n",
    "    flex_full_arrow_times.append(tot_flex_full_arrow)\n",
    "flex_full_arrow_mean = np.mean(np.array(flex_full_arrow_times))\n",
    "print(torch.allclose(o_flex_full_arrow.permute(0, 2, 1, 3), o_hw_full_arrow, 1e-3, 1e-3))"
   ]
  },
  {
   "cell_type": "code",
   "execution_count": 8,
   "metadata": {},
   "outputs": [
    {
     "name": "stdout",
     "output_type": "stream",
     "text": [
      "True\n"
     ]
    }
   ],
   "source": [
    "hw_half_arrow_times, hw_half_arrow_mean = [], []\n",
    "flex_half_arrow_times = []\n",
    "output_hw_half_arrows_rights = []\n",
    "o_ori_vs_o_ha = []\n",
    "\n",
    "for _ in range(100):\n",
    "    headwise_half_arrow_attn(q, k, v, window_sizes=window_sizes, seqlen_q_vision = seqlen_vision, seqlen_k_vision = seqlen_vision)\n",
    "torch.cuda.synchronize()\n",
    "\n",
    "start_hw_ha = torch.cuda.Event(True)\n",
    "end_hw_ha =  torch.cuda.Event(True)\n",
    "\n",
    "\n",
    "for _ in range(100): \n",
    "    start_hw_ha.record()\n",
    "    o_hw_half_arrow = headwise_half_arrow_attn(q, k, v, window_sizes=window_sizes, seqlen_q_vision = seqlen_vision, seqlen_k_vision = seqlen_vision)\n",
    "    end_hw_ha.record()\n",
    "    torch.cuda.synchronize()\n",
    "    tot_time_ha = (start_hw_ha.elapsed_time(end_hw_ha)) \n",
    "    hw_half_arrow_times.append(tot_time_ha)\n",
    "hw_half_arrow_mean = np.mean(np.array(hw_half_arrow_times))\n",
    "\n",
    "window_masks_ha, _ = create_half_arrow_mask(H, seqlen_vision, seqlen_text, window_sizes, (128, 128))\n",
    "flex_masks_ha = torch.zeros(window_masks.shape[0], \n",
    "                        (N + block_size[0] - 1) // block_size[0] * block_size[0], \n",
    "                        (N + block_size[1] - 1) // block_size[1] * block_size[1],\n",
    "                        dtype=window_masks_ha.dtype,\n",
    "                        device=window_masks_ha.device)\n",
    "flex_masks_ha[:, :N, :N] = window_masks_ha\n",
    "\n",
    "qp, kp, vp = q.permute(0, 2, 1, 3), k.permute(0, 2, 1, 3), v.permute(0, 2, 1, 3)\n",
    "\n",
    "for _ in range(100):\n",
    "    flex_headwin_attn(qp,\n",
    "                            kp,\n",
    "                            vp, \n",
    "                            seqlen_vision, seqlen_text, flex_masks_ha, (128, 128))\n",
    "    torch.cuda.synchronize()\n",
    "\n",
    "\n",
    "start_flex_ha = torch.cuda.Event(True)\n",
    "end_flex_ha = torch.cuda.Event(True)\n",
    "for _ in range(100): \n",
    "    start_flex_ha.record()\n",
    "    o_flex_half_arrow = flex_headwin_attn(qp,\n",
    "                            kp,\n",
    "                            vp,\n",
    "                            seqlen_vision, seqlen_text, flex_masks_ha, (128, 128))\n",
    "\n",
    "    end_flex_ha.record()\n",
    "    torch.cuda.synchronize()\n",
    "    tot_flex_half_arrow = (start_flex_ha.elapsed_time(end_flex_ha)) \n",
    "    flex_half_arrow_times.append(tot_flex_half_arrow)\n",
    "flex_half_arrow_mean = np.mean(np.array(flex_half_arrow_times))\n",
    "print(torch.allclose(o_flex_half_arrow.permute(0, 2, 1, 3), o_hw_half_arrow, 1e-3, 1e-3))"
   ]
  },
  {
   "cell_type": "code",
   "execution_count": 9,
   "metadata": {},
   "outputs": [
    {
     "name": "stdout",
     "output_type": "stream",
     "text": [
      "original time: 5.096377291679382\n",
      "flex full arrow time: 5.218748784065246\n",
      "ours full arrow time: 1.6892707216739655\n",
      "flex half arrow time: 2.55883807182312\n",
      "ours half arrow time: 1.2082035231590271\n"
     ]
    }
   ],
   "source": [
    "print(f\"original time: {ori_full_mean}\")\n",
    "print(f\"flex full arrow time: {flex_full_arrow_mean}\")\n",
    "print(f\"ours full arrow time: {hw_full_arrow_mean}\")\n",
    "\n",
    "print(f\"flex half arrow time: {flex_half_arrow_mean}\")\n",
    "print(f\"ours half arrow time: {hw_half_arrow_mean}\")"
   ]
  }
 ],
 "metadata": {
  "kernelspec": {
   "display_name": "flash_flex",
   "language": "python",
   "name": "python3"
  },
  "language_info": {
   "codemirror_mode": {
    "name": "ipython",
    "version": 3
   },
   "file_extension": ".py",
   "mimetype": "text/x-python",
   "name": "python",
   "nbconvert_exporter": "python",
   "pygments_lexer": "ipython3",
   "version": "3.12.8"
  }
 },
 "nbformat": 4,
 "nbformat_minor": 2
}
